{
 "cells": [
  {
   "cell_type": "code",
   "execution_count": 4,
   "id": "0d4fe95c-1fb1-44be-aff0-a32e85c82a7f",
   "metadata": {},
   "outputs": [],
   "source": [
    "### LOAD PACKAGES ###\n",
    "import pandas as pd\n",
    "import numpy as np\n",
    "from sklearn.preprocessing import StandardScaler, MinMaxScaler\n",
    "from sklearn.experimental import enable_iterative_imputer\n",
    "from sklearn.impute import IterativeImputer\n",
    "from sklearn.cluster import AgglomerativeClustering\n",
    "from scipy.stats import kruskal,chisquare\n",
    "import altair as alt\n",
    "import ugtm\n",
    "import textwrap\n",
    "import matplotlib.pyplot as plt\n",
    "from scipy.cluster import hierarchy \n",
    "from scipy.cluster.hierarchy import dendrogram, linkage\n",
    "import os\n",
    "from tqdm.notebook import trange, tqdm\n",
    "from tqdm.auto import tqdm\n",
    "from itertools import chain\n",
    "%matplotlib inline\n"
   ]
  },
  {
   "cell_type": "code",
   "execution_count": 2,
   "id": "cde65921-485c-4363-9b7c-fe50d4bb2730",
   "metadata": {},
   "outputs": [],
   "source": [
    "import warnings\n",
    "\n",
    "# 忽略所有 SettingWithCopyWarning\n",
    "warnings.simplefilter(action='ignore', category=pd.errors.SettingWithCopyWarning)"
   ]
  },
  {
   "cell_type": "code",
   "execution_count": 3,
   "id": "3bca9953-2750-478f-ae8b-b8dc08b2b576",
   "metadata": {
    "ExecuteTime": {
     "end_time": "2020-11-04T12:34:05.889725Z",
     "start_time": "2020-11-04T12:34:05.874587Z"
    },
    "tags": []
   },
   "outputs": [],
   "source": [
    "def get_fields(fields, data, data_field):\n",
    "    f = data_field[data_field[\"field.showcase\"].isin(fields) & data_field[\"field.tab\"].str.contains(\"f\\\\.\\\\d+\\\\.0\\\\.\\\\d\")].copy()\n",
    "    f[\"field\"] = pd.Categorical(f[\"field.showcase\"], categories=fields, ordered=True)\n",
    "    f = f.sort_values(\"field\").reset_index().drop(\"field\", axis=1)\n",
    "    return f\n",
    "\n",
    "def get_fields_all(fields, data, data_field):\n",
    "    f = data_field[data_field[\"field.showcase\"].isin(fields)].copy()\n",
    "    f[\"field\"] = pd.Categorical(f[\"field.showcase\"], categories=fields, ordered=True)\n",
    "    f = f.sort_values(\"field\").reset_index().drop(\"field\", axis=1)\n",
    "    return f\n",
    "\n",
    "def get_data_fields(fields, data, data_field):\n",
    "    f = get_fields(fields, data, data_field)\n",
    "    return data[[\"eid\"]+f[\"col.name\"].to_list()].copy()\n",
    "\n",
    "def get_data_fields_all(fields, data, data_field):\n",
    "    f = get_fields_all(fields, data, data_field)\n",
    "    return data[[\"eid\"]+f[\"col.name\"].to_list()].copy()"
   ]
  },
  {
   "cell_type": "code",
   "execution_count": 4,
   "id": "97f14dde-6954-4296-8f9e-ad48982c7a44",
   "metadata": {
    "tags": []
   },
   "outputs": [],
   "source": [
    "def map_column_to_meaning(df, column_name, data_path, file):\n",
    "    # 读取数据文件\n",
    "    coding1001 = pd.read_csv(f\"{data_path}/{file}\", sep=\"\\t\")\n",
    "    \n",
    "    # 将 coding 列转换为字符串类型\n",
    "    coding1001['coding'] = coding1001['coding'].astype('str')\n",
    "    \n",
    "    # 将列重命名为指定的 column_name\n",
    "    coding1001.rename(columns={\"coding\": column_name}, inplace=True)\n",
    "    \n",
    "    # 将 column_name 列转换为字符串类型\n",
    "    df[column_name] = df[column_name].astype('str')\n",
    "    \n",
    "    # 创建 code 到 meaning 的映射字典\n",
    "    code_to_meaning = dict(zip(coding1001[column_name], coding1001['meaning']))\n",
    "    \n",
    "    # 使用映射字典替换 column_name 列的值，并将其转换为分类类型\n",
    "    df[column_name] = df[column_name].map(code_to_meaning).astype('category')"
   ]
  },
  {
   "cell_type": "code",
   "execution_count": 5,
   "id": "42719782-25fd-4d2d-aa5e-7b19065bac50",
   "metadata": {
    "tags": []
   },
   "outputs": [],
   "source": [
    "from datetime import datetime, timedelta\n",
    "\n",
    "def datetime_from_dec_year(dec_year):\n",
    "    start = dec_year\n",
    "    year = int(start)\n",
    "    rem = start - year\n",
    "\n",
    "    base = datetime(year, 1, 1)\n",
    "    result = base + timedelta(seconds=(base.replace(year=base.year + 1) - base).total_seconds() * rem)\n",
    "    #result.strftime(\"%Y-%m-%d\")\n",
    "    return result.date()\n",
    "\n",
    "def extract_map_self_reported(data, data_field, code_map):\n",
    "    pbar = tqdm(total=16)\n",
    "    ### codes\n",
    "    fields = [\"20002\"]; pbar.update(1)\n",
    "    raw = get_data_fields_all(fields, data, data_field); pbar.update(1)\n",
    "    col = \"noncancer_illness_code_selfreported_f20002\"; pbar.update(1)\n",
    "    temp = pd.wide_to_long(raw, stubnames=[col], i=\"eid\", j=\"instance_index\", sep=\"_\", suffix=\"\\w+\").reset_index(); pbar.update(1)\n",
    "    codes = temp.rename(columns={col:\"code\"})\\\n",
    "        .assign(code=lambda x: x.code.astype(str))\\\n",
    "        .replace(\"None\", np.nan) \\\n",
    "        .replace(\"nan\", np.nan) \\\n",
    "        .dropna(subset=[\"code\"], axis=0)\\\n",
    "        .assign(code=lambda x: x.code.astype(int)) \\\n",
    "        .merge(code_map, how=\"left\",on=\"code\") \\\n",
    "        .sort_values([\"eid\", \"instance_index\"]) \\\n",
    "        .reset_index(drop=True); pbar.update(1)\n",
    "    \n",
    "    ### dates\n",
    "    fields = [\"20008\"]; pbar.update(1)\n",
    "    raw = get_data_fields_all(fields, data, data_field); pbar.update(1)\n",
    "    col=\"interpolated_year_when_noncancer_illness_first_diagnosed_f20008\"; pbar.update(1)\n",
    "    temp = pd.wide_to_long(raw, stubnames=[col], i=\"eid\", j=\"instance_index\", sep=\"_\", suffix=\"\\w+\").reset_index(); pbar.update(1)\n",
    "    dates = temp.rename(columns={col:\"date\"})\\\n",
    "        .dropna(subset=[\"date\"], axis=0)\\\n",
    "        .sort_values([\"eid\", \"instance_index\"]) \\\n",
    "        .reset_index(drop=True); pbar.update(1)\n",
    "\n",
    "    dates = dates[dates.date!=-1]; pbar.update(1)\n",
    "    dates = dates[dates.date!=-3]; pbar.update(1)\n",
    "    dates.date = dates.date.apply(datetime_from_dec_year); pbar.update(1)\n",
    "    \n",
    "    test = codes.merge(dates, how=\"left\", on=[\"eid\", \"instance_index\"]).assign(origin=\"self_reported\").copy(); pbar.update(1)\n",
    "    \n",
    "    test[\"instance_index\"] = test[\"instance_index\"].astype(\"string\"); pbar.update(1)\n",
    "    test[['instance','n']] = test.instance_index.str.split(\"_\",expand=True); pbar.update(1)\n",
    "    pbar.close()\n",
    "    \n",
    "    return test[[\"eid\", \"origin\", 'instance','n', \"code\", \"meaning\", \"date\"]]"
   ]
  },
  {
   "cell_type": "markdown",
   "id": "bd133631-8f14-46f7-a687-7c37d939c3ee",
   "metadata": {},
   "source": [
    "## Get the path and data for this study"
   ]
  },
  {
   "cell_type": "code",
   "execution_count": 6,
   "id": "3c70b2e5-f000-4d09-9387-2ab5cb50ef86",
   "metadata": {},
   "outputs": [],
   "source": [
    "data_geno_path = \"D:/UKBiobank/Geno\"\n",
    "data_base_path = \"D:/UKBiobank/brain/2_datasets_pre\"\n",
    "save_data_path = \"D:/UKBiobank/ML_Stroke/Data\"\n",
    "data_sup1_path = \"D:/UKBiobank/Sup1\"\n",
    "data_sup4_path = \"D:/UKBiobank/Sup4\"\n",
    "data_sup5_path = \"D:/UKBiobank/Sup5\"\n",
    "data_exam_path = \"D:/UKBiobank/Exam\"\n",
    "data_path = \"D:/UKBiobank/Green\""
   ]
  },
  {
   "cell_type": "code",
   "execution_count": 7,
   "id": "4ce7d8a5-ce4b-41dd-9109-0602f5480dc4",
   "metadata": {},
   "outputs": [],
   "source": [
    "data_geno = pd.read_feather(f\"{data_geno_path}/ukb_data.feather\")\n",
    "data_geno_field = pd.read_feather(f\"{data_geno_path}/ukb_data_field.feather\")\n",
    "data_geno_columns = data_geno.columns.to_list()"
   ]
  },
  {
   "cell_type": "code",
   "execution_count": 8,
   "id": "4d502b65-f3d3-4734-bfb6-1299d1e98138",
   "metadata": {},
   "outputs": [],
   "source": [
    "fields_geno = [\n",
    "    \"22009\", # PCA Geno\n",
    "]\n",
    "temp_geno = get_data_fields_all(fields_geno, data_geno, data_geno_field)"
   ]
  },
  {
   "cell_type": "code",
   "execution_count": 9,
   "id": "767f05c6-c5d7-4fbb-b46f-a25b8d3fdbb1",
   "metadata": {},
   "outputs": [],
   "source": [
    "data = pd.read_feather(f\"{data_base_path}/ukb_data.feather\")\n",
    "data_field = pd.read_feather(f\"{data_base_path}/ukb_data_field.feather\")\n",
    "data_columns = data.columns.to_list()\n",
    "data_sup4 = pd.read_feather(f\"{data_sup4_path}/ukb_data.feather\")\n",
    "data_sup4_field = pd.read_feather(f\"{data_sup4_path}/ukb_data_field.feather\")\n",
    "data_sup4_columns = data_sup4.columns.to_list()\n",
    "data_sup5 = pd.read_feather(f\"{data_sup5_path}/ukb_data.feather\")\n",
    "data_sup5_field = pd.read_feather(f\"{data_sup5_path}/ukb_data_field.feather\")\n",
    "data_sup5_columns = data_sup5.columns.to_list()\n",
    "data_sup_1 = pd.read_feather(f\"{data_sup1_path}/ukb_data.feather\")\n",
    "data_field_sup_1 = pd.read_feather(f\"{data_sup1_path}/ukb_data_field.feather\")\n",
    "data_sup_1_columns = data_sup_1.columns.to_list()\n",
    "data_cmr = pd.read_feather(f\"{data_exam_path}/ukb_data.feather\")\n",
    "data_cmr_field = pd.read_feather(f\"{data_exam_path}/ukb_data_field.feather\")\n",
    "data_cmr_columns = data_cmr.columns.to_list()\n"
   ]
  },
  {
   "cell_type": "code",
   "execution_count": 40,
   "id": "3cbaa03b-0078-437a-ad75-3e5b23fefa26",
   "metadata": {},
   "outputs": [],
   "source": [
    "fields_blood = [\n",
    "    \"30030\",\t# Haematocrit percentage\n",
    "    \"30070\",\t# Red blood cell (erythrocyte) distribution width\n",
    "    \"30080\",\t# Platelet count\n",
    "    \"30100\",\t# Mean platelet (thrombocyte) volume\n",
    "    \"30110\",\t# Platelet distribution width\n",
    "    \"30140\",\t# Neutrophill count\n",
    "    \"30180\",\t# Lymphocyte percentage\n",
    "    \"30190\",\t# Monocyte percentage\n",
    "    \"30600\",\t# Albumin\n",
    "    \"30620\",\t# Alanine aminotransferase\n",
    "    \"30660\",\t# Direct bilirubin\n",
    "    \"30690\",\t# Cholesterol\n",
    "    \"30700\",\t# Creatinine\n",
    "    \"30710\",\t# C-reactive protein\n",
    "    \"30730\",\t# Gamma glutamyltransferase\n",
    "    \"30740\",\t# Glucose\n",
    "    \"30750\",\t# Glycated haemoglobin (HbA1c)\n",
    "    \"30760\",\t# HDL cholesterol\n",
    "    \"30870\",\t# Triglycerides\n",
    "    \"30880\",\t# Urate\n",
    "    \"30720\",\t# Cystatin C\n",
    "    \"30790\",\t# Lipoprotein A\n",
    "    \"30780\",\t# LDL direct\n",
    "    \"30650\",\t# Aspartate aminotransferase\n",
    "    \"30830\",\t# SHBG\n",
    "    \"30850\",\t# Testosterone\n",
    "    \"30000\",\t# White blood cell (leukocyte) count\n",
    "]\n",
    "temp1 = get_data_fields(fields_blood, data, data_field)\n",
    "temp2 = get_data_fields(fields_blood, data_sup4, data_sup4_field)\n",
    "temp3 = get_data_fields(fields_blood, data_sup5, data_sup5_field)"
   ]
  },
  {
   "cell_type": "code",
   "execution_count": null,
   "id": "7851834c",
   "metadata": {},
   "outputs": [],
   "source": [
    "temp = temp1.merge(temp2, how=\"left\", on=\"eid\").merge(temp3, how=\"left\", on=\"eid\")\n",
    "temp.to_feather(os.path.join(save_data_path, 'temp_blood.feather'))"
   ]
  },
  {
   "cell_type": "code",
   "execution_count": 41,
   "id": "c4912b70-bdc7-45d9-9bf4-3332c9dcc8d5",
   "metadata": {},
   "outputs": [],
   "source": [
    "temp = temp_geno.merge(temp1, how=\"left\", on=\"eid\").merge(temp2, how=\"left\", on=\"eid\").merge(temp3, how=\"left\", on=\"eid\")\n",
    "temp.to_feather(os.path.join(save_data_path, 'temp_geno.feather'))"
   ]
  },
  {
   "cell_type": "code",
   "execution_count": 43,
   "id": "678c5783-5bee-47f3-90b3-e6752296ee57",
   "metadata": {},
   "outputs": [],
   "source": [
    "temp = pd.read_feather(os.path.join(save_data_path, 'temp_geno.feather'))"
   ]
  },
  {
   "cell_type": "code",
   "execution_count": 12,
   "id": "ead9fd7d",
   "metadata": {},
   "outputs": [],
   "source": [
    "fields_cmr = [\n",
    "    \"24102\",\t# LV stroke volume\n",
    "    \"24105\",\t# LV myocardial mass\n",
    "    \"24100\",\t# LV end diastolic volume\n",
    "    \"24101\",\t# LV end systolic volume\n",
    "    \"24103\",\t# LV ejection fraction\n",
    "    \"24181\",\t# LV longitudinal strain global\n",
    "    \"24110\",\t# LA maximum volume\n",
    "    \"24113\",\t# LA ejection fraction\n",
    "]\n",
    "\n",
    "def get_fields_image(fields, data, data_field):\n",
    "    f = data_field[data_field[\"field.showcase\"].isin(fields) & data_field[\"field.tab\"].str.contains(\"f\\\\.\\\\d+\\\\.2\\\\.\\\\d\")].copy()\n",
    "    f[\"field\"] = pd.Categorical(f[\"field.showcase\"], categories=fields, ordered=True)\n",
    "    f = f.sort_values(\"field\").reset_index().drop(\"field\", axis=1)\n",
    "    return f\n",
    "\n",
    "def get_data_fields_image(fields, data, data_field):\n",
    "    f = get_fields_image(fields, data, data_field)\n",
    "    return data[[\"eid\"]+f[\"col.name\"].to_list()].copy()\n",
    "\n",
    "temp_cmr = get_data_fields_image(fields_cmr, data_cmr, data_cmr_field)\n",
    "\n",
    "temp_cmr.to_feather(os.path.join(save_data_path, 'temp_cmr.feather'))\n",
    "\n",
    "temp_cmr = pd.read_feather(os.path.join(save_data_path, 'temp_cmr.feather'))\n"
   ]
  },
  {
   "cell_type": "code",
   "execution_count": 13,
   "id": "32935a3d-7c6e-4471-99c0-909ef6990474",
   "metadata": {},
   "outputs": [],
   "source": [
    "# load data\n",
    "ukbiobank_variable_definitions = pd.read_csv(\"D:/UKBiobank/AF_PHENOTYPE_GTM/data/ukbiobank/ukbiobank_variable_definitions.csv\")\n",
    "phecode_df = pd.read_csv(\"D:/UKBiobank/AF_PHENOTYPE_GTM/data/ukbiobank/phecode_icd10_mappings.csv\", encoding=\"latin_1\")\n",
    "# af_definitions = pd.read_csv(\"D:/UKBiobank/AF_PHENOTYPE_GTM/data/ukbiobank/af_definitions.csv\")"
   ]
  },
  {
   "cell_type": "code",
   "execution_count": 14,
   "id": "963fdece-870e-43f3-8a35-cbe3f6b4f8c7",
   "metadata": {},
   "outputs": [
    {
     "name": "stderr",
     "output_type": "stream",
     "text": [
      "C:\\Users\\admin\\AppData\\Local\\Temp\\ipykernel_21448\\3318982909.py:5: FutureWarning: The frame.append method is deprecated and will be removed from pandas in a future version. Use pandas.concat instead.\n",
      "  diagnoses_codes = codes_self_reported.append(hes_diagnoses.append(death_codes)).sort_values([\"eid\", \"date\"]).dropna(subset=[\"date\"], axis=0).reset_index(drop=True)\n"
     ]
    }
   ],
   "source": [
    "# diagnose information for AF from self report, diagnosis and death record\n",
    "codes_self_reported = pd.read_feather(os.path.join('D:/UKBiobank/Green/Data/', 'self_reported.feather'))\n",
    "hes_diagnoses = pd.read_feather(os.path.join('D:/UKBiobank/Green/Data/', 'hes_diagnoses.feather'))\n",
    "death_codes = pd.read_feather(os.path.join('D:/UKBiobank/Green/Data/', 'death_codes.feather'))\n",
    "diagnoses_codes = codes_self_reported.append(hes_diagnoses.append(death_codes)).sort_values([\"eid\", \"date\"]).dropna(subset=[\"date\"], axis=0).reset_index(drop=True)"
   ]
  },
  {
   "cell_type": "code",
   "execution_count": 15,
   "id": "19e6d507-009d-481a-8b0a-d1c6cca64a16",
   "metadata": {},
   "outputs": [],
   "source": [
    "diagnoses_codes_unique = diagnoses_codes.drop_duplicates(subset='eid')"
   ]
  },
  {
   "cell_type": "markdown",
   "id": "c33de2d8-364d-41fc-96a2-73cf8502a185",
   "metadata": {},
   "source": [
    "## Prepare Stroke diagnosis"
   ]
  },
  {
   "cell_type": "code",
   "execution_count": 16,
   "id": "76a7c011-1cf3-4b58-a428-e5dcf9840226",
   "metadata": {},
   "outputs": [],
   "source": [
    "time0_col=\"date_of_attending_assessment_centre_f53_0_0\""
   ]
  },
  {
   "cell_type": "code",
   "execution_count": 17,
   "id": "a88aec9e-b84b-46df-9a77-e0fc0eb33a52",
   "metadata": {},
   "outputs": [],
   "source": [
    "from joblib import Parallel, delayed\n",
    "\n",
    "def had_diagnosis_before_per_ph(df_before, ph, ph_codes, temp):\n",
    "    df_ph = df_before[df_before.code.astype('str').isin(ph_codes)][[\"eid\"]]\\\n",
    "            .drop_duplicates(subset=[\"eid\"])\\\n",
    "            .assign(phenotype=True) \n",
    "    return temp.merge(df_ph, how=\"left\", on=\"eid\").fillna(False).phenotype\n",
    "\n",
    "def had_diagnosis_before(data, diagnoses_codes, phenotypes, time0=time0_col):\n",
    "    diagnoses_codes_time = diagnoses_codes.merge(data[[\"eid\", time0]], how=\"left\", on=\"eid\")\n",
    "    \n",
    "    temp = data[[\"eid\"]].copy()\n",
    "    df_before = diagnoses_codes_time[diagnoses_codes_time.date < diagnoses_codes_time[time0]]\n",
    "                                                                                         \n",
    "    df_phs = Parallel(n_jobs=20, require=\"sharedmem\")(delayed(had_diagnosis_before_per_ph)(df_before, ph, phenotypes[ph], temp) for ph in tqdm(list(phenotypes)))\n",
    "    for ph, df_ph_series in zip(tqdm(list(phenotypes)), df_phs): temp[ph] = df_ph_series\n",
    "    \n",
    "    return temp.sort_values(\"eid\")"
   ]
  },
  {
   "cell_type": "code",
   "execution_count": 18,
   "id": "51aad11b-5435-418a-acc4-396bd2c0cc52",
   "metadata": {},
   "outputs": [],
   "source": [
    "l10_basic = {\n",
    "    \"ALL Stroke\": ['1081', '1086','1491', '1583', \n",
    "               '4309', '4319','4349','4369'] + \n",
    "            [f\"I60{i:01}\" for i in range(10)] + \n",
    "            [f\"I61{i:01}\" for i in chain(range(0,7), range(8,10))] +\n",
    "            [f\"I62{i:01}\" for i in chain(range(0,2), range(9,10))] +\n",
    "            [f\"I63{i:01}\" for i in chain(range(0,7), range(8,10))] +\n",
    "            ['I64'],\n",
    "    'Self report - Stroke': ['1081'],\n",
    "    'Self report - Subarachnoid haemorrhage': ['1086'],\n",
    "    'Self report - Brain haemorrhage': ['1491'],\n",
    "    'Self report - Ischaemic stroke': ['1583'],\n",
    "    'ICD 9 - Subarachnoid haemorrhage': ['4309'],\n",
    "    'ICD 9 - Intracerebral haemorrhage': ['4319'],\n",
    "    # 'ICD 9 - Other and unspecified intracranial haemorrhage': ['4320'],\n",
    "    # 'ICD 9 - Occlusion of cerebral arteries': ['4340', '4341', '4349'],\n",
    "    'ICD 9 - Occlusion of cerebral arteries': ['4349'],\n",
    "    'ICD 9 - Acute, but ill-defined, cerebrovascular disease': ['4369'],\n",
    "    'ICD 10 - Subarachnoid haemorrhage': [f\"I60{i:01}\" for i in range(10)],\n",
    "    'ICD 10 - Intracerebral haemorrhage': [f\"I61{i:01}\" for i in chain(range(0,7), range(8,10))],\n",
    "    'ICD 10 - Other nontraumatic intracranial haemorrhage': [f\"I62{i:01}\" for i in chain(range(0,2), range(9,10))],\n",
    "    'ICD 10 - Cerebral infarction':[f\"I63{i:01}\" for i in chain(range(0,7), range(8,10))],\n",
    "    'ICD 10 - Stroke, not specified as haemorrhage or infarction': ['I64']\n",
    "}"
   ]
  },
  {
   "cell_type": "code",
   "execution_count": 7,
   "id": "cd4791bf",
   "metadata": {},
   "outputs": [
    {
     "data": {
      "text/plain": [
       "['I630', 'I631', 'I632', 'I633', 'I634', 'I635', 'I636', 'I638', 'I639']"
      ]
     },
     "execution_count": 7,
     "metadata": {},
     "output_type": "execute_result"
    }
   ],
   "source": [
    "[f\"I63{i:01}\" for i in chain(range(0,7), range(8,10))]"
   ]
  },
  {
   "cell_type": "code",
   "execution_count": 19,
   "id": "41d0f190-973c-493a-aaf7-1aaddbf0efb8",
   "metadata": {
    "tags": []
   },
   "outputs": [],
   "source": [
    "l10 = {k: v for k, v in l10_basic.items() if len(v)!=0}"
   ]
  },
  {
   "cell_type": "code",
   "execution_count": 20,
   "id": "faf8036e-0fd1-4462-ad6a-9c60ed5310e7",
   "metadata": {
    "tags": []
   },
   "outputs": [],
   "source": [
    "basics = pd.read_feather(os.path.join('D:/UKBiobank/Green/Data/', 'temp_basics.feather'))"
   ]
  },
  {
   "cell_type": "code",
   "execution_count": 21,
   "id": "3244d7f7-35c6-413e-a8a3-fa1c81c97bd7",
   "metadata": {
    "tags": []
   },
   "outputs": [
    {
     "data": {
      "application/vnd.jupyter.widget-view+json": {
       "model_id": "69bebd26d14246e8a65cd37b1f94a884",
       "version_major": 2,
       "version_minor": 0
      },
      "text/plain": [
       "  0%|          | 0/14 [00:00<?, ?it/s]"
      ]
     },
     "metadata": {},
     "output_type": "display_data"
    },
    {
     "data": {
      "application/vnd.jupyter.widget-view+json": {
       "model_id": "fe0dca45123945b3ba2f26118e5cd63c",
       "version_major": 2,
       "version_minor": 0
      },
      "text/plain": [
       "  0%|          | 0/14 [00:00<?, ?it/s]"
      ]
     },
     "metadata": {},
     "output_type": "display_data"
    }
   ],
   "source": [
    "diagnoses_before = had_diagnosis_before(basics, diagnoses_codes, l10, time0=time0_col)"
   ]
  },
  {
   "cell_type": "code",
   "execution_count": 22,
   "id": "340eca6f-9820-441d-b847-8fc8f9baa069",
   "metadata": {
    "tags": []
   },
   "outputs": [
    {
     "data": {
      "text/plain": [
       "False    494431\n",
       "True       7780\n",
       "Name: ALL Stroke, dtype: int64"
      ]
     },
     "execution_count": 22,
     "metadata": {},
     "output_type": "execute_result"
    }
   ],
   "source": [
    "diagnoses_before['ALL Stroke'].value_counts()"
   ]
  },
  {
   "cell_type": "code",
   "execution_count": 23,
   "id": "77aebfa2-5335-425e-8bb5-8138310ad4d7",
   "metadata": {},
   "outputs": [],
   "source": [
    "free_of_stroke = diagnoses_before[diagnoses_before['ALL Stroke'] == False].eid\n",
    "basics_filtered = basics[basics['eid'].isin(free_of_stroke)].reset_index()"
   ]
  },
  {
   "cell_type": "markdown",
   "id": "48567ab0-3030-43dd-b4e2-273da9692c78",
   "metadata": {},
   "source": [
    "### excluding baseline stroke 7780, 494431  remained"
   ]
  },
  {
   "cell_type": "code",
   "execution_count": 24,
   "id": "2e3f5587-eabc-40cb-9ce7-bdb445c1555e",
   "metadata": {},
   "outputs": [],
   "source": [
    "basics_with_follow = basics_filtered[basics_filtered['eid'].isin(diagnoses_codes_unique.eid)].reset_index()"
   ]
  },
  {
   "cell_type": "markdown",
   "id": "35199aa0-08e3-4046-9aad-d5c6b9987d80",
   "metadata": {},
   "source": [
    "### excluding 20251 without follow up, 474180  remained"
   ]
  },
  {
   "cell_type": "code",
   "execution_count": 25,
   "id": "f399e151-d4f6-43ca-928d-ef6625299cbf",
   "metadata": {},
   "outputs": [],
   "source": [
    "from dateutil.relativedelta import relativedelta\n",
    "import datetime\n",
    "\n",
    "def extract_endpoints_tte(data, diagnoses_codes, endpoint_list, time0_col, level=None):\n",
    "    if level is not None: diagnoses_codes = diagnoses_codes.query(\"level==@level\")\n",
    "    diagnoses_codes_time0 = diagnoses_codes.merge(data[[\"eid\", time0_col]], how=\"left\", on=\"eid\")\n",
    "    \n",
    "    #cens_time_right = max(diagnoses_codes.sort_values('date').groupby('origin').tail(1).date.to_list())\n",
    "    cens_time_right = datetime.date(2023, 9, 30)\n",
    "    print(f\"t_0: {time0_col}\")\n",
    "    print(f\"t_cens: {cens_time_right}\")\n",
    "    \n",
    "    df_interval = diagnoses_codes_time0[(diagnoses_codes_time0.date > diagnoses_codes_time0[time0_col]) & \n",
    "                                        (diagnoses_codes_time0.date < cens_time_right)]\n",
    "    \n",
    "    temp = data[[\"eid\", time0_col]].copy()\n",
    "    for ph, ph_codes in tqdm(endpoint_list.items()):\n",
    "        regex = \"|\".join(ph_codes)\n",
    "        ph_df = df_interval[df_interval.code.astype('str').str.contains(regex, case=False)] \\\n",
    "            .sort_values('date').groupby('eid').head(1).assign(phenotype=1, date=lambda x: x.date)\n",
    "        temp_ph = temp.merge(ph_df, how=\"left\", on=\"eid\").fillna('0')\n",
    "        temp_ph.phenotype = temp_ph.phenotype.astype('int')\n",
    "        \n",
    "        temp[ph+\"_event\"], temp[ph+\"_event_date\"], temp[ph+\"_origin\"] = temp_ph.phenotype, temp_ph.date, temp_ph.origin\n",
    "        \n",
    "        fill_date = {ph+\"_event_date\" : lambda x: [cens_time_right if event==0 else event_date for event, event_date in zip(x[ph+\"_event\"], x[ph+\"_event_date\"])]}\n",
    "        calc_tte = {ph+\"_event_time\" : lambda x: [(event_date-time0).days/365.25  for time0, event_date in zip(x[time0_col], x[ph+\"_event_date\"])]}\n",
    "        \n",
    "        temp = temp.assign(**fill_date).assign(**calc_tte).drop([ph+\"_event_date\"], axis=1)\n",
    "        \n",
    "    temp = temp.drop([time0_col], axis=1)     \n",
    "    \n",
    "    return temp.drop_duplicates()"
   ]
  },
  {
   "cell_type": "code",
   "execution_count": 26,
   "id": "da2e29d8-cb91-46bb-a0a3-4d60d49365f3",
   "metadata": {},
   "outputs": [
    {
     "name": "stdout",
     "output_type": "stream",
     "text": [
      "t_0: date_of_attending_assessment_centre_f53_0_0\n",
      "t_cens: 2023-09-30\n"
     ]
    },
    {
     "data": {
      "application/vnd.jupyter.widget-view+json": {
       "model_id": "b0ea78003d084741bc2d000b771c7206",
       "version_major": 2,
       "version_minor": 0
      },
      "text/plain": [
       "  0%|          | 0/14 [00:00<?, ?it/s]"
      ]
     },
     "metadata": {},
     "output_type": "display_data"
    }
   ],
   "source": [
    "endpoints_diagnoses = extract_endpoints_tte(basics_with_follow, diagnoses_codes, l10_basic, time0_col)"
   ]
  },
  {
   "cell_type": "code",
   "execution_count": 27,
   "id": "76b0906f-82b6-4228-b7d2-bca4ca14bac6",
   "metadata": {},
   "outputs": [
    {
     "data": {
      "text/html": [
       "<div>\n",
       "<style scoped>\n",
       "    .dataframe tbody tr th:only-of-type {\n",
       "        vertical-align: middle;\n",
       "    }\n",
       "\n",
       "    .dataframe tbody tr th {\n",
       "        vertical-align: top;\n",
       "    }\n",
       "\n",
       "    .dataframe thead th {\n",
       "        text-align: right;\n",
       "    }\n",
       "</style>\n",
       "<table border=\"1\" class=\"dataframe\">\n",
       "  <thead>\n",
       "    <tr style=\"text-align: right;\">\n",
       "      <th></th>\n",
       "      <th>eid</th>\n",
       "      <th>ALL Stroke_event</th>\n",
       "      <th>ALL Stroke_origin</th>\n",
       "      <th>ALL Stroke_event_time</th>\n",
       "      <th>Self report - Stroke_event</th>\n",
       "      <th>Self report - Stroke_origin</th>\n",
       "      <th>Self report - Stroke_event_time</th>\n",
       "      <th>Self report - Subarachnoid haemorrhage_event</th>\n",
       "      <th>Self report - Subarachnoid haemorrhage_origin</th>\n",
       "      <th>Self report - Subarachnoid haemorrhage_event_time</th>\n",
       "      <th>...</th>\n",
       "      <th>ICD 10 - Intracerebral haemorrhage_event_time</th>\n",
       "      <th>ICD 10 - Other nontraumatic intracranial haemorrhage_event</th>\n",
       "      <th>ICD 10 - Other nontraumatic intracranial haemorrhage_origin</th>\n",
       "      <th>ICD 10 - Other nontraumatic intracranial haemorrhage_event_time</th>\n",
       "      <th>ICD 10 - Cerebral infarction_event</th>\n",
       "      <th>ICD 10 - Cerebral infarction_origin</th>\n",
       "      <th>ICD 10 - Cerebral infarction_event_time</th>\n",
       "      <th>ICD 10 - Stroke, not specified as haemorrhage or infarction_event</th>\n",
       "      <th>ICD 10 - Stroke, not specified as haemorrhage or infarction_origin</th>\n",
       "      <th>ICD 10 - Stroke, not specified as haemorrhage or infarction_event_time</th>\n",
       "    </tr>\n",
       "  </thead>\n",
       "  <tbody>\n",
       "    <tr>\n",
       "      <th>0</th>\n",
       "      <td>1000016</td>\n",
       "      <td>0</td>\n",
       "      <td>0</td>\n",
       "      <td>13.842574</td>\n",
       "      <td>0</td>\n",
       "      <td>0</td>\n",
       "      <td>13.842574</td>\n",
       "      <td>0</td>\n",
       "      <td>0</td>\n",
       "      <td>13.842574</td>\n",
       "      <td>...</td>\n",
       "      <td>13.842574</td>\n",
       "      <td>0</td>\n",
       "      <td>0</td>\n",
       "      <td>13.842574</td>\n",
       "      <td>0</td>\n",
       "      <td>0</td>\n",
       "      <td>13.842574</td>\n",
       "      <td>0</td>\n",
       "      <td>0</td>\n",
       "      <td>13.842574</td>\n",
       "    </tr>\n",
       "    <tr>\n",
       "      <th>1</th>\n",
       "      <td>1000029</td>\n",
       "      <td>0</td>\n",
       "      <td>0</td>\n",
       "      <td>15.307324</td>\n",
       "      <td>0</td>\n",
       "      <td>0</td>\n",
       "      <td>15.307324</td>\n",
       "      <td>0</td>\n",
       "      <td>0</td>\n",
       "      <td>15.307324</td>\n",
       "      <td>...</td>\n",
       "      <td>15.307324</td>\n",
       "      <td>0</td>\n",
       "      <td>0</td>\n",
       "      <td>15.307324</td>\n",
       "      <td>0</td>\n",
       "      <td>0</td>\n",
       "      <td>15.307324</td>\n",
       "      <td>0</td>\n",
       "      <td>0</td>\n",
       "      <td>15.307324</td>\n",
       "    </tr>\n",
       "    <tr>\n",
       "      <th>2</th>\n",
       "      <td>1000033</td>\n",
       "      <td>0</td>\n",
       "      <td>0</td>\n",
       "      <td>14.995209</td>\n",
       "      <td>0</td>\n",
       "      <td>0</td>\n",
       "      <td>14.995209</td>\n",
       "      <td>0</td>\n",
       "      <td>0</td>\n",
       "      <td>14.995209</td>\n",
       "      <td>...</td>\n",
       "      <td>14.995209</td>\n",
       "      <td>0</td>\n",
       "      <td>0</td>\n",
       "      <td>14.995209</td>\n",
       "      <td>0</td>\n",
       "      <td>0</td>\n",
       "      <td>14.995209</td>\n",
       "      <td>0</td>\n",
       "      <td>0</td>\n",
       "      <td>14.995209</td>\n",
       "    </tr>\n",
       "    <tr>\n",
       "      <th>3</th>\n",
       "      <td>1000045</td>\n",
       "      <td>0</td>\n",
       "      <td>0</td>\n",
       "      <td>14.242300</td>\n",
       "      <td>0</td>\n",
       "      <td>0</td>\n",
       "      <td>14.242300</td>\n",
       "      <td>0</td>\n",
       "      <td>0</td>\n",
       "      <td>14.242300</td>\n",
       "      <td>...</td>\n",
       "      <td>14.242300</td>\n",
       "      <td>0</td>\n",
       "      <td>0</td>\n",
       "      <td>14.242300</td>\n",
       "      <td>0</td>\n",
       "      <td>0</td>\n",
       "      <td>14.242300</td>\n",
       "      <td>0</td>\n",
       "      <td>0</td>\n",
       "      <td>14.242300</td>\n",
       "    </tr>\n",
       "    <tr>\n",
       "      <th>4</th>\n",
       "      <td>1000051</td>\n",
       "      <td>0</td>\n",
       "      <td>0</td>\n",
       "      <td>14.954141</td>\n",
       "      <td>0</td>\n",
       "      <td>0</td>\n",
       "      <td>14.954141</td>\n",
       "      <td>0</td>\n",
       "      <td>0</td>\n",
       "      <td>14.954141</td>\n",
       "      <td>...</td>\n",
       "      <td>14.954141</td>\n",
       "      <td>0</td>\n",
       "      <td>0</td>\n",
       "      <td>14.954141</td>\n",
       "      <td>0</td>\n",
       "      <td>0</td>\n",
       "      <td>14.954141</td>\n",
       "      <td>0</td>\n",
       "      <td>0</td>\n",
       "      <td>14.954141</td>\n",
       "    </tr>\n",
       "    <tr>\n",
       "      <th>...</th>\n",
       "      <td>...</td>\n",
       "      <td>...</td>\n",
       "      <td>...</td>\n",
       "      <td>...</td>\n",
       "      <td>...</td>\n",
       "      <td>...</td>\n",
       "      <td>...</td>\n",
       "      <td>...</td>\n",
       "      <td>...</td>\n",
       "      <td>...</td>\n",
       "      <td>...</td>\n",
       "      <td>...</td>\n",
       "      <td>...</td>\n",
       "      <td>...</td>\n",
       "      <td>...</td>\n",
       "      <td>...</td>\n",
       "      <td>...</td>\n",
       "      <td>...</td>\n",
       "      <td>...</td>\n",
       "      <td>...</td>\n",
       "      <td>...</td>\n",
       "    </tr>\n",
       "    <tr>\n",
       "      <th>474175</th>\n",
       "      <td>6023671</td>\n",
       "      <td>0</td>\n",
       "      <td>0</td>\n",
       "      <td>14.277892</td>\n",
       "      <td>0</td>\n",
       "      <td>0</td>\n",
       "      <td>14.277892</td>\n",
       "      <td>0</td>\n",
       "      <td>0</td>\n",
       "      <td>14.277892</td>\n",
       "      <td>...</td>\n",
       "      <td>14.277892</td>\n",
       "      <td>0</td>\n",
       "      <td>0</td>\n",
       "      <td>14.277892</td>\n",
       "      <td>0</td>\n",
       "      <td>0</td>\n",
       "      <td>14.277892</td>\n",
       "      <td>0</td>\n",
       "      <td>0</td>\n",
       "      <td>14.277892</td>\n",
       "    </tr>\n",
       "    <tr>\n",
       "      <th>474176</th>\n",
       "      <td>6023682</td>\n",
       "      <td>0</td>\n",
       "      <td>0</td>\n",
       "      <td>14.220397</td>\n",
       "      <td>0</td>\n",
       "      <td>0</td>\n",
       "      <td>14.220397</td>\n",
       "      <td>0</td>\n",
       "      <td>0</td>\n",
       "      <td>14.220397</td>\n",
       "      <td>...</td>\n",
       "      <td>14.220397</td>\n",
       "      <td>0</td>\n",
       "      <td>0</td>\n",
       "      <td>14.220397</td>\n",
       "      <td>0</td>\n",
       "      <td>0</td>\n",
       "      <td>14.220397</td>\n",
       "      <td>0</td>\n",
       "      <td>0</td>\n",
       "      <td>14.220397</td>\n",
       "    </tr>\n",
       "    <tr>\n",
       "      <th>474177</th>\n",
       "      <td>6023690</td>\n",
       "      <td>0</td>\n",
       "      <td>0</td>\n",
       "      <td>13.817933</td>\n",
       "      <td>0</td>\n",
       "      <td>0</td>\n",
       "      <td>13.817933</td>\n",
       "      <td>0</td>\n",
       "      <td>0</td>\n",
       "      <td>13.817933</td>\n",
       "      <td>...</td>\n",
       "      <td>13.817933</td>\n",
       "      <td>0</td>\n",
       "      <td>0</td>\n",
       "      <td>13.817933</td>\n",
       "      <td>0</td>\n",
       "      <td>0</td>\n",
       "      <td>13.817933</td>\n",
       "      <td>0</td>\n",
       "      <td>0</td>\n",
       "      <td>13.817933</td>\n",
       "    </tr>\n",
       "    <tr>\n",
       "      <th>474178</th>\n",
       "      <td>6023707</td>\n",
       "      <td>0</td>\n",
       "      <td>0</td>\n",
       "      <td>13.295003</td>\n",
       "      <td>0</td>\n",
       "      <td>0</td>\n",
       "      <td>13.295003</td>\n",
       "      <td>0</td>\n",
       "      <td>0</td>\n",
       "      <td>13.295003</td>\n",
       "      <td>...</td>\n",
       "      <td>13.295003</td>\n",
       "      <td>0</td>\n",
       "      <td>0</td>\n",
       "      <td>13.295003</td>\n",
       "      <td>0</td>\n",
       "      <td>0</td>\n",
       "      <td>13.295003</td>\n",
       "      <td>0</td>\n",
       "      <td>0</td>\n",
       "      <td>13.295003</td>\n",
       "    </tr>\n",
       "    <tr>\n",
       "      <th>474179</th>\n",
       "      <td>6023712</td>\n",
       "      <td>0</td>\n",
       "      <td>0</td>\n",
       "      <td>13.503080</td>\n",
       "      <td>0</td>\n",
       "      <td>0</td>\n",
       "      <td>13.503080</td>\n",
       "      <td>0</td>\n",
       "      <td>0</td>\n",
       "      <td>13.503080</td>\n",
       "      <td>...</td>\n",
       "      <td>13.503080</td>\n",
       "      <td>0</td>\n",
       "      <td>0</td>\n",
       "      <td>13.503080</td>\n",
       "      <td>0</td>\n",
       "      <td>0</td>\n",
       "      <td>13.503080</td>\n",
       "      <td>0</td>\n",
       "      <td>0</td>\n",
       "      <td>13.503080</td>\n",
       "    </tr>\n",
       "  </tbody>\n",
       "</table>\n",
       "<p>474180 rows × 43 columns</p>\n",
       "</div>"
      ],
      "text/plain": [
       "            eid  ALL Stroke_event ALL Stroke_origin  ALL Stroke_event_time  \\\n",
       "0       1000016                 0                 0              13.842574   \n",
       "1       1000029                 0                 0              15.307324   \n",
       "2       1000033                 0                 0              14.995209   \n",
       "3       1000045                 0                 0              14.242300   \n",
       "4       1000051                 0                 0              14.954141   \n",
       "...         ...               ...               ...                    ...   \n",
       "474175  6023671                 0                 0              14.277892   \n",
       "474176  6023682                 0                 0              14.220397   \n",
       "474177  6023690                 0                 0              13.817933   \n",
       "474178  6023707                 0                 0              13.295003   \n",
       "474179  6023712                 0                 0              13.503080   \n",
       "\n",
       "        Self report - Stroke_event Self report - Stroke_origin  \\\n",
       "0                                0                           0   \n",
       "1                                0                           0   \n",
       "2                                0                           0   \n",
       "3                                0                           0   \n",
       "4                                0                           0   \n",
       "...                            ...                         ...   \n",
       "474175                           0                           0   \n",
       "474176                           0                           0   \n",
       "474177                           0                           0   \n",
       "474178                           0                           0   \n",
       "474179                           0                           0   \n",
       "\n",
       "        Self report - Stroke_event_time  \\\n",
       "0                             13.842574   \n",
       "1                             15.307324   \n",
       "2                             14.995209   \n",
       "3                             14.242300   \n",
       "4                             14.954141   \n",
       "...                                 ...   \n",
       "474175                        14.277892   \n",
       "474176                        14.220397   \n",
       "474177                        13.817933   \n",
       "474178                        13.295003   \n",
       "474179                        13.503080   \n",
       "\n",
       "        Self report - Subarachnoid haemorrhage_event  \\\n",
       "0                                                  0   \n",
       "1                                                  0   \n",
       "2                                                  0   \n",
       "3                                                  0   \n",
       "4                                                  0   \n",
       "...                                              ...   \n",
       "474175                                             0   \n",
       "474176                                             0   \n",
       "474177                                             0   \n",
       "474178                                             0   \n",
       "474179                                             0   \n",
       "\n",
       "       Self report - Subarachnoid haemorrhage_origin  \\\n",
       "0                                                  0   \n",
       "1                                                  0   \n",
       "2                                                  0   \n",
       "3                                                  0   \n",
       "4                                                  0   \n",
       "...                                              ...   \n",
       "474175                                             0   \n",
       "474176                                             0   \n",
       "474177                                             0   \n",
       "474178                                             0   \n",
       "474179                                             0   \n",
       "\n",
       "        Self report - Subarachnoid haemorrhage_event_time  ...  \\\n",
       "0                                               13.842574  ...   \n",
       "1                                               15.307324  ...   \n",
       "2                                               14.995209  ...   \n",
       "3                                               14.242300  ...   \n",
       "4                                               14.954141  ...   \n",
       "...                                                   ...  ...   \n",
       "474175                                          14.277892  ...   \n",
       "474176                                          14.220397  ...   \n",
       "474177                                          13.817933  ...   \n",
       "474178                                          13.295003  ...   \n",
       "474179                                          13.503080  ...   \n",
       "\n",
       "        ICD 10 - Intracerebral haemorrhage_event_time  \\\n",
       "0                                           13.842574   \n",
       "1                                           15.307324   \n",
       "2                                           14.995209   \n",
       "3                                           14.242300   \n",
       "4                                           14.954141   \n",
       "...                                               ...   \n",
       "474175                                      14.277892   \n",
       "474176                                      14.220397   \n",
       "474177                                      13.817933   \n",
       "474178                                      13.295003   \n",
       "474179                                      13.503080   \n",
       "\n",
       "       ICD 10 - Other nontraumatic intracranial haemorrhage_event  \\\n",
       "0                                                       0           \n",
       "1                                                       0           \n",
       "2                                                       0           \n",
       "3                                                       0           \n",
       "4                                                       0           \n",
       "...                                                   ...           \n",
       "474175                                                  0           \n",
       "474176                                                  0           \n",
       "474177                                                  0           \n",
       "474178                                                  0           \n",
       "474179                                                  0           \n",
       "\n",
       "        ICD 10 - Other nontraumatic intracranial haemorrhage_origin  \\\n",
       "0                                                       0             \n",
       "1                                                       0             \n",
       "2                                                       0             \n",
       "3                                                       0             \n",
       "4                                                       0             \n",
       "...                                                   ...             \n",
       "474175                                                  0             \n",
       "474176                                                  0             \n",
       "474177                                                  0             \n",
       "474178                                                  0             \n",
       "474179                                                  0             \n",
       "\n",
       "        ICD 10 - Other nontraumatic intracranial haemorrhage_event_time  \\\n",
       "0                                               13.842574                 \n",
       "1                                               15.307324                 \n",
       "2                                               14.995209                 \n",
       "3                                               14.242300                 \n",
       "4                                               14.954141                 \n",
       "...                                                   ...                 \n",
       "474175                                          14.277892                 \n",
       "474176                                          14.220397                 \n",
       "474177                                          13.817933                 \n",
       "474178                                          13.295003                 \n",
       "474179                                          13.503080                 \n",
       "\n",
       "       ICD 10 - Cerebral infarction_event  \\\n",
       "0                                       0   \n",
       "1                                       0   \n",
       "2                                       0   \n",
       "3                                       0   \n",
       "4                                       0   \n",
       "...                                   ...   \n",
       "474175                                  0   \n",
       "474176                                  0   \n",
       "474177                                  0   \n",
       "474178                                  0   \n",
       "474179                                  0   \n",
       "\n",
       "        ICD 10 - Cerebral infarction_origin  \\\n",
       "0                                         0   \n",
       "1                                         0   \n",
       "2                                         0   \n",
       "3                                         0   \n",
       "4                                         0   \n",
       "...                                     ...   \n",
       "474175                                    0   \n",
       "474176                                    0   \n",
       "474177                                    0   \n",
       "474178                                    0   \n",
       "474179                                    0   \n",
       "\n",
       "        ICD 10 - Cerebral infarction_event_time  \\\n",
       "0                                     13.842574   \n",
       "1                                     15.307324   \n",
       "2                                     14.995209   \n",
       "3                                     14.242300   \n",
       "4                                     14.954141   \n",
       "...                                         ...   \n",
       "474175                                14.277892   \n",
       "474176                                14.220397   \n",
       "474177                                13.817933   \n",
       "474178                                13.295003   \n",
       "474179                                13.503080   \n",
       "\n",
       "       ICD 10 - Stroke, not specified as haemorrhage or infarction_event  \\\n",
       "0                                                       0                  \n",
       "1                                                       0                  \n",
       "2                                                       0                  \n",
       "3                                                       0                  \n",
       "4                                                       0                  \n",
       "...                                                   ...                  \n",
       "474175                                                  0                  \n",
       "474176                                                  0                  \n",
       "474177                                                  0                  \n",
       "474178                                                  0                  \n",
       "474179                                                  0                  \n",
       "\n",
       "        ICD 10 - Stroke, not specified as haemorrhage or infarction_origin  \\\n",
       "0                                                       0                    \n",
       "1                                                       0                    \n",
       "2                                                       0                    \n",
       "3                                                       0                    \n",
       "4                                                       0                    \n",
       "...                                                   ...                    \n",
       "474175                                                  0                    \n",
       "474176                                                  0                    \n",
       "474177                                                  0                    \n",
       "474178                                                  0                    \n",
       "474179                                                  0                    \n",
       "\n",
       "        ICD 10 - Stroke, not specified as haemorrhage or infarction_event_time  \n",
       "0                                               13.842574                       \n",
       "1                                               15.307324                       \n",
       "2                                               14.995209                       \n",
       "3                                               14.242300                       \n",
       "4                                               14.954141                       \n",
       "...                                                   ...                       \n",
       "474175                                          14.277892                       \n",
       "474176                                          14.220397                       \n",
       "474177                                          13.817933                       \n",
       "474178                                          13.295003                       \n",
       "474179                                          13.503080                       \n",
       "\n",
       "[474180 rows x 43 columns]"
      ]
     },
     "execution_count": 27,
     "metadata": {},
     "output_type": "execute_result"
    }
   ],
   "source": [
    "endpoints_diagnoses"
   ]
  },
  {
   "cell_type": "code",
   "execution_count": 28,
   "id": "cf37f8a8-4219-4de4-b5fd-3eb7f7846181",
   "metadata": {},
   "outputs": [],
   "source": [
    "stroke_event = endpoints_diagnoses[endpoints_diagnoses['ALL Stroke_event']==1].reset_index(drop=True)"
   ]
  },
  {
   "cell_type": "code",
   "execution_count": 29,
   "id": "c8017307-f6ce-4de1-a492-c9f27e9ba305",
   "metadata": {},
   "outputs": [],
   "source": [
    "stroke_event.to_feather(os.path.join(save_data_path, 'temp_stroke_new.feather'))"
   ]
  },
  {
   "cell_type": "code",
   "execution_count": 30,
   "id": "01a64801-dc80-4fba-9a33-bd86e931ef48",
   "metadata": {},
   "outputs": [],
   "source": [
    "from joblib import Parallel, delayed\n",
    "\n",
    "def had_diagnosis_before_per_ph(df_before, ph, ph_codes, temp):\n",
    "    df_ph = df_before[df_before.code.astype('str').isin(ph_codes)][[\"eid\"]]\\\n",
    "            .drop_duplicates(subset=[\"eid\"])\\\n",
    "            .assign(phenotype=True) \n",
    "    return temp.merge(df_ph, how=\"left\", on=\"eid\").fillna(False).phenotype\n",
    "\n",
    "def had_diagnosis_before_image(data, diagnoses_codes, phenotypes, time0=time0_col):\n",
    "    diagnoses_codes_time = diagnoses_codes.merge(data[[\"eid\", time0]], how=\"left\", on=\"eid\")\n",
    "    \n",
    "    temp = data[[\"eid\"]].copy()\n",
    "    cens_time_right = datetime.date(2014, 1, 1)\n",
    "    df_before = diagnoses_codes_time[diagnoses_codes_time.date < cens_time_right]\n",
    "                                                                                         \n",
    "    df_phs = Parallel(n_jobs=20, require=\"sharedmem\")(delayed(had_diagnosis_before_per_ph)(df_before, ph, phenotypes[ph], temp) for ph in tqdm(list(phenotypes)))\n",
    "    for ph, df_ph_series in zip(tqdm(list(phenotypes)), df_phs): temp[ph] = df_ph_series\n",
    "    \n",
    "    return temp.sort_values(\"eid\")"
   ]
  },
  {
   "cell_type": "code",
   "execution_count": 31,
   "id": "0f566096",
   "metadata": {},
   "outputs": [
    {
     "data": {
      "application/vnd.jupyter.widget-view+json": {
       "model_id": "2d1a023888344c6789f2a266c61e9723",
       "version_major": 2,
       "version_minor": 0
      },
      "text/plain": [
       "  0%|          | 0/14 [00:00<?, ?it/s]"
      ]
     },
     "metadata": {},
     "output_type": "display_data"
    },
    {
     "data": {
      "application/vnd.jupyter.widget-view+json": {
       "model_id": "672ff6eb865e49c2918b394c10019610",
       "version_major": 2,
       "version_minor": 0
      },
      "text/plain": [
       "  0%|          | 0/14 [00:00<?, ?it/s]"
      ]
     },
     "metadata": {},
     "output_type": "display_data"
    }
   ],
   "source": [
    "diagnoses_befor_image = had_diagnosis_before_image(basics, diagnoses_codes, l10, time0=time0_col)"
   ]
  },
  {
   "cell_type": "code",
   "execution_count": 32,
   "id": "dd937869",
   "metadata": {},
   "outputs": [
    {
     "data": {
      "text/plain": [
       "False    491366\n",
       "True      10845\n",
       "Name: ALL Stroke, dtype: int64"
      ]
     },
     "execution_count": 32,
     "metadata": {},
     "output_type": "execute_result"
    }
   ],
   "source": [
    "diagnoses_befor_image['ALL Stroke'].value_counts()"
   ]
  },
  {
   "cell_type": "code",
   "execution_count": 33,
   "id": "31ff1b4c",
   "metadata": {},
   "outputs": [],
   "source": [
    "diagnoses_befor_image.to_feather(os.path.join(save_data_path, 'diagnoses_before_image.feather'))"
   ]
  },
  {
   "cell_type": "code",
   "execution_count": 34,
   "id": "3f05b401",
   "metadata": {},
   "outputs": [],
   "source": [
    "free_of_stroke_image = diagnoses_befor_image[diagnoses_befor_image['ALL Stroke'] == False].eid\n",
    "basics_filtered_image = basics[basics['eid'].isin(free_of_stroke_image)].reset_index()"
   ]
  },
  {
   "cell_type": "code",
   "execution_count": 35,
   "id": "a639ddd1",
   "metadata": {},
   "outputs": [
    {
     "name": "stdout",
     "output_type": "stream",
     "text": [
      "t_0: date_of_attending_assessment_centre_f53_0_0\n",
      "t_cens: 2023-09-30\n"
     ]
    },
    {
     "data": {
      "application/vnd.jupyter.widget-view+json": {
       "model_id": "c08a56f07dae49b98f1160c0f6a0dfcb",
       "version_major": 2,
       "version_minor": 0
      },
      "text/plain": [
       "  0%|          | 0/14 [00:00<?, ?it/s]"
      ]
     },
     "metadata": {},
     "output_type": "display_data"
    }
   ],
   "source": [
    "basics_with_follow_image = basics_filtered_image[basics_filtered_image['eid'].isin(diagnoses_codes_unique.eid)].reset_index()\n",
    "endpoints_diagnoses_image = extract_endpoints_tte(basics_with_follow_image, diagnoses_codes, l10_basic, time0_col)"
   ]
  },
  {
   "cell_type": "code",
   "execution_count": 36,
   "id": "17cd5b6e",
   "metadata": {},
   "outputs": [],
   "source": [
    "stroke_event_image = endpoints_diagnoses_image[endpoints_diagnoses_image['ALL Stroke_event']==1].reset_index(drop=True)"
   ]
  },
  {
   "cell_type": "code",
   "execution_count": 37,
   "id": "358bbbd0",
   "metadata": {},
   "outputs": [],
   "source": [
    "stroke_event_image.to_feather(os.path.join(save_data_path, 'temp_stroke_image.feather'))"
   ]
  },
  {
   "cell_type": "code",
   "execution_count": 39,
   "id": "3692528a",
   "metadata": {},
   "outputs": [],
   "source": [
    "endpoints_diagnoses_image.to_feather(os.path.join(save_data_path, 'temp_stroke_diagnosis_image.feather'))"
   ]
  },
  {
   "cell_type": "code",
   "execution_count": null,
   "id": "272d31ed",
   "metadata": {},
   "outputs": [],
   "source": []
  }
 ],
 "metadata": {
  "kernelspec": {
   "display_name": "GTM",
   "language": "python",
   "name": "python3"
  },
  "language_info": {
   "codemirror_mode": {
    "name": "ipython",
    "version": 3
   },
   "file_extension": ".py",
   "mimetype": "text/x-python",
   "name": "python",
   "nbconvert_exporter": "python",
   "pygments_lexer": "ipython3",
   "version": "3.10.8"
  }
 },
 "nbformat": 4,
 "nbformat_minor": 5
}
