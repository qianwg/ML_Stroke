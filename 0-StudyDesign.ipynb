{
 "cells": [
  {
   "cell_type": "markdown",
   "id": "2b003a6e-cb34-4172-8bb9-cb55fe966883",
   "metadata": {},
   "source": [
    "# Step 1 Participants"
   ]
  },
  {
   "cell_type": "markdown",
   "id": "ff53be58-c0bc-4896-933f-6d917c5f4c1f",
   "metadata": {},
   "source": [
    "### Exclusion: \n",
    "#### 1. free of stroke at baseline; (Self reported, Medical record, death registor)\n",
    "#### 2. lost of follow up; \n",
    "#### 3. missing model construction variables? (how much)"
   ]
  },
  {
   "cell_type": "markdown",
   "id": "a40a7b42-bd9b-4132-910c-f6f5fa863e1a",
   "metadata": {},
   "source": [
    "# Step 2 Data preprocessing and modeling"
   ]
  },
  {
   "cell_type": "markdown",
   "id": "cb6073df-038e-488f-832e-5baae7f1d6ac",
   "metadata": {},
   "source": [
    "#### 1. Extract the snp pca and blood test results\n",
    "#### 2. UGTM modeling: Tuning and Building\n",
    "#### 3. Clustering\n",
    "#### 4. Investigatory variables mapping\n",
    "#### 5. High risk and low risk stroke group (COX et al)"
   ]
  },
  {
   "cell_type": "markdown",
   "id": "bf22649e-e588-4589-bafe-1c49c0dd479d",
   "metadata": {},
   "source": [
    "# Step 3 Supervised modeling"
   ]
  },
  {
   "cell_type": "markdown",
   "id": "a041b9c5-f548-47d0-a60c-9a9d9af3851d",
   "metadata": {},
   "source": [
    "#### 1. relevant variables in 4\n",
    "#### 2. tidyverse modeling\n",
    "#### 3. pysurvival modeling"
   ]
  },
  {
   "cell_type": "markdown",
   "id": "1d75a413",
   "metadata": {},
   "source": [
    "# Step 1.1 CMR\n",
    "#### LA: left atrium; LV: left ventricle;\n",
    "\n",
    "#### LV stroke volume (LVSV)\n",
    "#### LV mass (LVM)\n",
    "#### LV end-diastolic volume (LVEDV)\n",
    "#### LA ejection fraction (LAEF)\n",
    "#### LV global function index (LVGFI): As per previous descriptions,20,21 we defined LVGFI (%) as LV stroke volume/LV global volume × 100, where LV global volume was calculated as the sum of the LV mean cavity volume [(LV end-diastolic volume + LV end-systolic volume)/2] and myocardium volume (LV mass/density). Density of LV was specified as 1.05 g/mL. 34907415\n",
    "#### LV global longitudinal strain (GLS)\n",
    "#### LA maximum volume (LAV)\n",
    "#### LA ejection fraction (LAEF)\n",
    "\n"
   ]
  },
  {
   "cell_type": "markdown",
   "id": "14a7ee0c",
   "metadata": {},
   "source": []
  }
 ],
 "metadata": {
  "kernelspec": {
   "display_name": "Python 3 (ipykernel)",
   "language": "python",
   "name": "python3"
  },
  "language_info": {
   "codemirror_mode": {
    "name": "ipython",
    "version": 3
   },
   "file_extension": ".py",
   "mimetype": "text/x-python",
   "name": "python",
   "nbconvert_exporter": "python",
   "pygments_lexer": "ipython3",
   "version": "3.10.8"
  }
 },
 "nbformat": 4,
 "nbformat_minor": 5
}
